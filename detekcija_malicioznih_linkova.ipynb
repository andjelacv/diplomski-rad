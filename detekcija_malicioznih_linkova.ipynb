{
 "cells": [
  {
   "cell_type": "code",
   "execution_count": 1,
   "id": "00cf2dcf-b678-4acf-96c3-d6efafcf4742",
   "metadata": {},
   "outputs": [],
   "source": [
    "import pandas as pd\n",
    "import numpy as np\n",
    "import matplotlib.pyplot as plt\n",
    "import seaborn as sns\n",
    "from urllib.parse import urlparse\n",
    "import re\n",
    "import tldextract"
   ]
  },
  {
   "cell_type": "code",
   "execution_count": 2,
   "id": "d26d4430-231c-4db0-84e1-2886f7a365f8",
   "metadata": {},
   "outputs": [],
   "source": [
    "df=pd.read_csv('malicious_phish.csv')"
   ]
  },
  {
   "cell_type": "code",
   "execution_count": 3,
   "id": "d561717d-09f9-4574-877f-72248be85afa",
   "metadata": {},
   "outputs": [
    {
     "name": "stdout",
     "output_type": "stream",
     "text": [
      "<class 'pandas.core.frame.DataFrame'>\n",
      "RangeIndex: 651191 entries, 0 to 651190\n",
      "Data columns (total 2 columns):\n",
      " #   Column  Non-Null Count   Dtype \n",
      "---  ------  --------------   ----- \n",
      " 0   url     651191 non-null  object\n",
      " 1   type    651191 non-null  object\n",
      "dtypes: object(2)\n",
      "memory usage: 9.9+ MB\n"
     ]
    }
   ],
   "source": [
    "df.info()"
   ]
  },
  {
   "cell_type": "code",
   "execution_count": 4,
   "id": "2d369c4f-1aec-4085-8df0-be7203dfbc15",
   "metadata": {},
   "outputs": [
    {
     "data": {
      "text/html": [
       "<div>\n",
       "<style scoped>\n",
       "    .dataframe tbody tr th:only-of-type {\n",
       "        vertical-align: middle;\n",
       "    }\n",
       "\n",
       "    .dataframe tbody tr th {\n",
       "        vertical-align: top;\n",
       "    }\n",
       "\n",
       "    .dataframe thead th {\n",
       "        text-align: right;\n",
       "    }\n",
       "</style>\n",
       "<table border=\"1\" class=\"dataframe\">\n",
       "  <thead>\n",
       "    <tr style=\"text-align: right;\">\n",
       "      <th></th>\n",
       "      <th>url</th>\n",
       "      <th>type</th>\n",
       "    </tr>\n",
       "  </thead>\n",
       "  <tbody>\n",
       "    <tr>\n",
       "      <th>0</th>\n",
       "      <td>br-icloud.com.br</td>\n",
       "      <td>phishing</td>\n",
       "    </tr>\n",
       "    <tr>\n",
       "      <th>1</th>\n",
       "      <td>mp3raid.com/music/krizz_kaliko.html</td>\n",
       "      <td>benign</td>\n",
       "    </tr>\n",
       "    <tr>\n",
       "      <th>2</th>\n",
       "      <td>bopsecrets.org/rexroth/cr/1.htm</td>\n",
       "      <td>benign</td>\n",
       "    </tr>\n",
       "    <tr>\n",
       "      <th>3</th>\n",
       "      <td>http://www.garage-pirenne.be/index.php?option=...</td>\n",
       "      <td>defacement</td>\n",
       "    </tr>\n",
       "    <tr>\n",
       "      <th>4</th>\n",
       "      <td>http://adventure-nicaragua.net/index.php?optio...</td>\n",
       "      <td>defacement</td>\n",
       "    </tr>\n",
       "    <tr>\n",
       "      <th>5</th>\n",
       "      <td>http://buzzfil.net/m/show-art/ils-etaient-loin...</td>\n",
       "      <td>benign</td>\n",
       "    </tr>\n",
       "    <tr>\n",
       "      <th>6</th>\n",
       "      <td>espn.go.com/nba/player/_/id/3457/brandon-rush</td>\n",
       "      <td>benign</td>\n",
       "    </tr>\n",
       "    <tr>\n",
       "      <th>7</th>\n",
       "      <td>yourbittorrent.com/?q=anthony-hamilton-soulife</td>\n",
       "      <td>benign</td>\n",
       "    </tr>\n",
       "    <tr>\n",
       "      <th>8</th>\n",
       "      <td>http://www.pashminaonline.com/pure-pashminas</td>\n",
       "      <td>defacement</td>\n",
       "    </tr>\n",
       "    <tr>\n",
       "      <th>9</th>\n",
       "      <td>allmusic.com/album/crazy-from-the-heat-r16990</td>\n",
       "      <td>benign</td>\n",
       "    </tr>\n",
       "  </tbody>\n",
       "</table>\n",
       "</div>"
      ],
      "text/plain": [
       "                                                 url        type\n",
       "0                                   br-icloud.com.br    phishing\n",
       "1                mp3raid.com/music/krizz_kaliko.html      benign\n",
       "2                    bopsecrets.org/rexroth/cr/1.htm      benign\n",
       "3  http://www.garage-pirenne.be/index.php?option=...  defacement\n",
       "4  http://adventure-nicaragua.net/index.php?optio...  defacement\n",
       "5  http://buzzfil.net/m/show-art/ils-etaient-loin...      benign\n",
       "6      espn.go.com/nba/player/_/id/3457/brandon-rush      benign\n",
       "7     yourbittorrent.com/?q=anthony-hamilton-soulife      benign\n",
       "8       http://www.pashminaonline.com/pure-pashminas  defacement\n",
       "9      allmusic.com/album/crazy-from-the-heat-r16990      benign"
      ]
     },
     "execution_count": 4,
     "metadata": {},
     "output_type": "execute_result"
    }
   ],
   "source": [
    "df.head(10)"
   ]
  },
  {
   "cell_type": "code",
   "execution_count": 5,
   "id": "ab702060-6b46-4541-a315-6cdc39c68a2e",
   "metadata": {},
   "outputs": [
    {
     "data": {
      "text/plain": [
       "url     0\n",
       "type    0\n",
       "dtype: int64"
      ]
     },
     "execution_count": 5,
     "metadata": {},
     "output_type": "execute_result"
    }
   ],
   "source": [
    "#nema NA vrednosti\n",
    "df.isna().sum()"
   ]
  },
  {
   "cell_type": "code",
   "execution_count": 6,
   "id": "cf60e5e5-d103-4fa5-afcd-b52691ecf0b4",
   "metadata": {},
   "outputs": [
    {
     "data": {
      "image/png": "[encoded data removed]",
      "text/plain": [
       "<Figure size 640x480 with 1 Axes>"
      ]
     },
     "metadata": {},
     "output_type": "display_data"
    }
   ],
   "source": [
    "#raspodela \n",
    "sns.countplot(x='type',data=df)\n",
    "plt.xlabel('type')\n",
    "plt.ylabel('frekvencija')\n",
    "plt.title('distribucija atributa type')\n",
    "plt.show()"
   ]
  },
  {
   "cell_type": "code",
   "execution_count": 7,
   "id": "eb84e549-7177-4ef1-82d7-14638c427b49",
   "metadata": {},
   "outputs": [
    {
     "data": {
      "image/png": "[encoded data removed]",
      "text/plain": [
       "<Figure size 640x480 with 1 Axes>"
      ]
     },
     "metadata": {},
     "output_type": "display_data"
    }
   ],
   "source": [
    "frekv=df['type'].value_counts()\n",
    "plt.pie(frekv,labels=frekv.index, autopct='%1.1f%%')\n",
    "plt.title('pie chart')\n",
    "plt.show()\n",
    "\n",
    "##ovo ukazuje na nebalansiranost skupa podataka, posebno zbog toga što klasa benign dominira u odnosu na druge klase."
   ]
  },
  {
   "cell_type": "code",
   "execution_count": 8,
   "id": "12477b5e-1014-4bd7-9938-8811e31fc63a",
   "metadata": {},
   "outputs": [
    {
     "data": {
      "image/png": "[encoded data removed]",
      "text/plain": [
       "<Figure size 600x600 with 1 Axes>"
      ]
     },
     "metadata": {},
     "output_type": "display_data"
    }
   ],
   "source": [
    "freq=df['type'].value_counts()\n",
    "plt.figure(figsize=(6,6))\n",
    "plt.bar(freq.index,freq.values)\n",
    "plt.xlabel('type')\n",
    "plt.ylabel('Frekvencija')\n",
    "plt.title('Distribucija type')\n",
    "plt.show()\n"
   ]
  },
  {
   "cell_type": "code",
   "execution_count": 9,
   "id": "248d165a-5972-43f1-8716-f3cf91c1ca96",
   "metadata": {},
   "outputs": [
    {
     "name": "stdout",
     "output_type": "stream",
     "text": [
      "\n",
      "Broj praznih stringova po kolonama:\n",
      "url     0\n",
      "type    0\n",
      "dtype: int64\n"
     ]
    }
   ],
   "source": [
    "prazni_stringovi = (df == '').sum()\n",
    "print(\"\\nBroj praznih stringova po kolonama:\")\n",
    "print(prazni_stringovi)"
   ]
  },
  {
   "cell_type": "markdown",
   "id": "2bc4ca4d-6c95-4d68-87c0-595aaa240efe",
   "metadata": {},
   "source": [
    "<h3>Undersampling</h3>"
   ]
  },
  {
   "cell_type": "code",
   "execution_count": 10,
   "id": "30409ee5-9c81-4227-b92a-b9e98f47260b",
   "metadata": {},
   "outputs": [],
   "source": [
    "frekv=df['type'].value_counts()"
   ]
  },
  {
   "cell_type": "code",
   "execution_count": 11,
   "id": "281cf583-00e3-4111-8014-e673cdb61f03",
   "metadata": {},
   "outputs": [],
   "source": [
    "min_frekv=frekv.min()"
   ]
  },
  {
   "cell_type": "code",
   "execution_count": 12,
   "id": "8107f811-e6cf-4693-b18b-8d968ecd1dc1",
   "metadata": {},
   "outputs": [],
   "source": [
    "dfs=[]\n",
    "for frkv in frekv.index:\n",
    "    frkv_df=df[df['type']==frkv]\n",
    "    sampled_frkv=frkv_df.sample(n=min_frekv,random_state=42)\n",
    "    dfs.append(sampled_frkv)\n",
    "\n",
    "df_undersampled=pd.concat(dfs)\n",
    "    "
   ]
  },
  {
   "cell_type": "code",
   "execution_count": 13,
   "id": "59f6a011-b84a-401c-8052-9a66d8298fb5",
   "metadata": {},
   "outputs": [
    {
     "name": "stdout",
     "output_type": "stream",
     "text": [
      "Raspodela klasa nakon undersamplinga\n",
      "type\n",
      "benign        32520\n",
      "defacement    32520\n",
      "phishing      32520\n",
      "malware       32520\n",
      "Name: count, dtype: int64\n"
     ]
    }
   ],
   "source": [
    "print('Raspodela klasa nakon undersamplinga')\n",
    "print(df_undersampled['type'].value_counts())"
   ]
  },
  {
   "cell_type": "code",
   "execution_count": 14,
   "id": "cd75909e-014d-4603-8eff-2b1fa3f06cd6",
   "metadata": {},
   "outputs": [],
   "source": [
    "frekv_undersampled=df_undersampled['type'].value_counts()"
   ]
  },
  {
   "cell_type": "code",
   "execution_count": 15,
   "id": "a20fa463-d630-48d4-9244-626f88ea47fa",
   "metadata": {},
   "outputs": [
    {
     "data": {
      "image/png": "[encoded data removed]",
      "text/plain": [
       "<Figure size 640x480 with 1 Axes>"
      ]
     },
     "metadata": {},
     "output_type": "display_data"
    }
   ],
   "source": [
    "plt.pie(frekv_undersampled,labels=frekv_undersampled.index,autopct='%1.1f%%')\n",
    "plt.title('raspodela nakon undersamplinga')\n",
    "plt.show()"
   ]
  },
  {
   "cell_type": "raw",
   "id": "e3a6ef16-477c-4978-b2db-06dd91d0f402",
   "metadata": {},
   "source": [
    "df_undersampled.head()"
   ]
  },
  {
   "cell_type": "markdown",
   "id": "250b603e-758d-4663-aad5-57ffe18c6d0c",
   "metadata": {},
   "source": [
    "<h3>Feature engineering</h3>"
   ]
  },
  {
   "cell_type": "markdown",
   "id": "a63f80ba-d75f-446e-ba0d-b6853eb914ab",
   "metadata": {},
   "source": [
    "<h4>Duzina URL</h4>"
   ]
  },
  {
   "cell_type": "code",
   "execution_count": 16,
   "id": "0f28807b-413f-40e5-a85f-d0dcd695c4fb",
   "metadata": {},
   "outputs": [],
   "source": [
    "df_undersampled['duzina_url']= df_undersampled['url'].apply(len)"
   ]
  },
  {
   "cell_type": "code",
   "execution_count": 17,
   "id": "2f93af22-9b82-418a-998b-bdad08202ef7",
   "metadata": {},
   "outputs": [],
   "source": [
    "mean_length=df_undersampled.groupby('type')['duzina_url'].mean().sort_values()"
   ]
  },
  {
   "cell_type": "code",
   "execution_count": 18,
   "id": "1a44224b-73b2-49a1-b8c0-48e37e02214e",
   "metadata": {},
   "outputs": [
    {
     "data": {
      "text/plain": [
       "Text(0, 0.5, 'url length')"
      ]
     },
     "execution_count": 18,
     "metadata": {},
     "output_type": "execute_result"
    },
    {
     "data": {
      "image/png": "[encoded data removed]",
      "text/plain": [
       "<Figure size 640x480 with 1 Axes>"
      ]
     },
     "metadata": {},
     "output_type": "display_data"
    }
   ],
   "source": [
    "mean_length.plot(kind='bar')\n",
    "plt.title('prosecna duzina url po tipu')\n",
    "plt.ylabel('url length')"
   ]
  },
  {
   "cell_type": "markdown",
   "id": "3136884c-8acb-4d5e-ad51-f94f47739f1d",
   "metadata": {},
   "source": [
    "<h4>Duzina domena</h4>"
   ]
  },
  {
   "cell_type": "code",
   "execution_count": 19,
   "id": "da1fcba4-c1e7-4bfe-aa9f-572c9fdca050",
   "metadata": {},
   "outputs": [],
   "source": [
    "def duzina_domena(url):\n",
    "    extracted = tldextract.extract(url)\n",
    "    \n",
    "    if extracted.subdomain:\n",
    "        full_domain = f\"{extracted.subdomain}.{extracted.domain}.{extracted.suffix}\"\n",
    "    else:\n",
    "        full_domain = f\"{extracted.domain}.{extracted.suffix}\"\n",
    "    \n",
    "    return len(full_domain)"
   ]
  },
  {
   "cell_type": "code",
   "execution_count": 20,
   "id": "c58b7e08-0113-4586-92ac-d4c245e76e73",
   "metadata": {},
   "outputs": [],
   "source": [
    "df_undersampled['duzina_domena']=df_undersampled['url'].apply(lambda url:duzina_domena(url))"
   ]
  },
  {
   "cell_type": "code",
   "execution_count": 21,
   "id": "ab932587-b77b-4835-9fb4-4fb9d6ae9916",
   "metadata": {},
   "outputs": [
    {
     "data": {
      "text/html": [
       "<div>\n",
       "<style scoped>\n",
       "    .dataframe tbody tr th:only-of-type {\n",
       "        vertical-align: middle;\n",
       "    }\n",
       "\n",
       "    .dataframe tbody tr th {\n",
       "        vertical-align: top;\n",
       "    }\n",
       "\n",
       "    .dataframe thead th {\n",
       "        text-align: right;\n",
       "    }\n",
       "</style>\n",
       "<table border=\"1\" class=\"dataframe\">\n",
       "  <thead>\n",
       "    <tr style=\"text-align: right;\">\n",
       "      <th></th>\n",
       "      <th>url</th>\n",
       "      <th>type</th>\n",
       "      <th>duzina_url</th>\n",
       "      <th>duzina_domena</th>\n",
       "    </tr>\n",
       "  </thead>\n",
       "  <tbody>\n",
       "    <tr>\n",
       "      <th>514768</th>\n",
       "      <td>montreal.louer.com/ahuntsic-rentals/houses-rent/</td>\n",
       "      <td>benign</td>\n",
       "      <td>48</td>\n",
       "      <td>18</td>\n",
       "    </tr>\n",
       "    <tr>\n",
       "      <th>222536</th>\n",
       "      <td>comunidade.sol.pt/blogs/hytigin/default.aspx</td>\n",
       "      <td>benign</td>\n",
       "      <td>44</td>\n",
       "      <td>17</td>\n",
       "    </tr>\n",
       "    <tr>\n",
       "      <th>276748</th>\n",
       "      <td>youtube.com/watch?v=PUDOlyCpHwo</td>\n",
       "      <td>benign</td>\n",
       "      <td>31</td>\n",
       "      <td>11</td>\n",
       "    </tr>\n",
       "    <tr>\n",
       "      <th>50193</th>\n",
       "      <td>uiowa.edu/~acadtech/phonetics/</td>\n",
       "      <td>benign</td>\n",
       "      <td>30</td>\n",
       "      <td>9</td>\n",
       "    </tr>\n",
       "    <tr>\n",
       "      <th>339822</th>\n",
       "      <td>flixster.com/actor/steve-mcqueen</td>\n",
       "      <td>benign</td>\n",
       "      <td>32</td>\n",
       "      <td>12</td>\n",
       "    </tr>\n",
       "    <tr>\n",
       "      <th>174885</th>\n",
       "      <td>http://stackoverflow.com/questions/5069876/reg...</td>\n",
       "      <td>benign</td>\n",
       "      <td>105</td>\n",
       "      <td>17</td>\n",
       "    </tr>\n",
       "    <tr>\n",
       "      <th>187420</th>\n",
       "      <td>en.goldenmap.com/City_of_Playford</td>\n",
       "      <td>benign</td>\n",
       "      <td>33</td>\n",
       "      <td>16</td>\n",
       "    </tr>\n",
       "    <tr>\n",
       "      <th>434789</th>\n",
       "      <td>content.usatoday.com/community/tags/topic.aspx...</td>\n",
       "      <td>benign</td>\n",
       "      <td>71</td>\n",
       "      <td>20</td>\n",
       "    </tr>\n",
       "    <tr>\n",
       "      <th>153097</th>\n",
       "      <td>music.concordia.ca/</td>\n",
       "      <td>benign</td>\n",
       "      <td>19</td>\n",
       "      <td>18</td>\n",
       "    </tr>\n",
       "    <tr>\n",
       "      <th>50095</th>\n",
       "      <td>en.wikipedia.org/wiki/Aveos_Fleet_Performance</td>\n",
       "      <td>benign</td>\n",
       "      <td>45</td>\n",
       "      <td>16</td>\n",
       "    </tr>\n",
       "    <tr>\n",
       "      <th>175357</th>\n",
       "      <td>informatica.techtiks.com/beginners.html</td>\n",
       "      <td>benign</td>\n",
       "      <td>39</td>\n",
       "      <td>24</td>\n",
       "    </tr>\n",
       "    <tr>\n",
       "      <th>158942</th>\n",
       "      <td>leftoutside.wordpress.com/</td>\n",
       "      <td>benign</td>\n",
       "      <td>26</td>\n",
       "      <td>25</td>\n",
       "    </tr>\n",
       "    <tr>\n",
       "      <th>227728</th>\n",
       "      <td>http://icicibank.com/privilege-banking/persona...</td>\n",
       "      <td>benign</td>\n",
       "      <td>117</td>\n",
       "      <td>13</td>\n",
       "    </tr>\n",
       "    <tr>\n",
       "      <th>303058</th>\n",
       "      <td>facebook.com/people/Alvin-Sanders/1378200379</td>\n",
       "      <td>benign</td>\n",
       "      <td>44</td>\n",
       "      <td>12</td>\n",
       "    </tr>\n",
       "    <tr>\n",
       "      <th>595589</th>\n",
       "      <td>'9d345009-a-62cb3a1a-s-sites.googlegroups.com/...</td>\n",
       "      <td>benign</td>\n",
       "      <td>363</td>\n",
       "      <td>45</td>\n",
       "    </tr>\n",
       "    <tr>\n",
       "      <th>411452</th>\n",
       "      <td>fanpix.net/gallery/cam-clarke-pictures.htm</td>\n",
       "      <td>benign</td>\n",
       "      <td>42</td>\n",
       "      <td>10</td>\n",
       "    </tr>\n",
       "    <tr>\n",
       "      <th>43298</th>\n",
       "      <td>facebook.com/people/Bobby-Halford/1074705824</td>\n",
       "      <td>benign</td>\n",
       "      <td>44</td>\n",
       "      <td>12</td>\n",
       "    </tr>\n",
       "    <tr>\n",
       "      <th>247321</th>\n",
       "      <td>800padutch.com/mem-out.shtml</td>\n",
       "      <td>benign</td>\n",
       "      <td>28</td>\n",
       "      <td>14</td>\n",
       "    </tr>\n",
       "    <tr>\n",
       "      <th>518020</th>\n",
       "      <td>chinatownology.com/chinatown_montreal.html</td>\n",
       "      <td>benign</td>\n",
       "      <td>42</td>\n",
       "      <td>18</td>\n",
       "    </tr>\n",
       "    <tr>\n",
       "      <th>236737</th>\n",
       "      <td>worldwidescience.org/topicpages/a/acute+myocar...</td>\n",
       "      <td>benign</td>\n",
       "      <td>66</td>\n",
       "      <td>20</td>\n",
       "    </tr>\n",
       "  </tbody>\n",
       "</table>\n",
       "</div>"
      ],
      "text/plain": [
       "                                                      url    type  duzina_url  \\\n",
       "514768   montreal.louer.com/ahuntsic-rentals/houses-rent/  benign          48   \n",
       "222536       comunidade.sol.pt/blogs/hytigin/default.aspx  benign          44   \n",
       "276748                    youtube.com/watch?v=PUDOlyCpHwo  benign          31   \n",
       "50193                      uiowa.edu/~acadtech/phonetics/  benign          30   \n",
       "339822                   flixster.com/actor/steve-mcqueen  benign          32   \n",
       "174885  http://stackoverflow.com/questions/5069876/reg...  benign         105   \n",
       "187420                  en.goldenmap.com/City_of_Playford  benign          33   \n",
       "434789  content.usatoday.com/community/tags/topic.aspx...  benign          71   \n",
       "153097                                music.concordia.ca/  benign          19   \n",
       "50095       en.wikipedia.org/wiki/Aveos_Fleet_Performance  benign          45   \n",
       "175357            informatica.techtiks.com/beginners.html  benign          39   \n",
       "158942                         leftoutside.wordpress.com/  benign          26   \n",
       "227728  http://icicibank.com/privilege-banking/persona...  benign         117   \n",
       "303058       facebook.com/people/Alvin-Sanders/1378200379  benign          44   \n",
       "595589  '9d345009-a-62cb3a1a-s-sites.googlegroups.com/...  benign         363   \n",
       "411452         fanpix.net/gallery/cam-clarke-pictures.htm  benign          42   \n",
       "43298        facebook.com/people/Bobby-Halford/1074705824  benign          44   \n",
       "247321                       800padutch.com/mem-out.shtml  benign          28   \n",
       "518020         chinatownology.com/chinatown_montreal.html  benign          42   \n",
       "236737  worldwidescience.org/topicpages/a/acute+myocar...  benign          66   \n",
       "\n",
       "        duzina_domena  \n",
       "514768             18  \n",
       "222536             17  \n",
       "276748             11  \n",
       "50193               9  \n",
       "339822             12  \n",
       "174885             17  \n",
       "187420             16  \n",
       "434789             20  \n",
       "153097             18  \n",
       "50095              16  \n",
       "175357             24  \n",
       "158942             25  \n",
       "227728             13  \n",
       "303058             12  \n",
       "595589             45  \n",
       "411452             10  \n",
       "43298              12  \n",
       "247321             14  \n",
       "518020             18  \n",
       "236737             20  "
      ]
     },
     "execution_count": 21,
     "metadata": {},
     "output_type": "execute_result"
    }
   ],
   "source": [
    "df_undersampled.head(20)"
   ]
  },
  {
   "cell_type": "code",
   "execution_count": 22,
   "id": "51dbbc42-6fb0-41a5-ba93-aa441f92ab62",
   "metadata": {},
   "outputs": [
    {
     "data": {
      "image/png": "[encoded data removed]",
      "text/plain": [
       "<Figure size 1000x600 with 1 Axes>"
      ]
     },
     "metadata": {},
     "output_type": "display_data"
    }
   ],
   "source": [
    "plt.figure(figsize=(10, 6))\n",
    "plt.hist(df_undersampled['duzina_domena'], bins=10, edgecolor='k', alpha=0.7,range=(0,50))\n",
    "plt.title('Histogram dužine domena')\n",
    "plt.xlabel('Dužina domena')\n",
    "plt.ylabel('Frekvencija')\n",
    "plt.grid(False)\n",
    "plt.show()"
   ]
  },
  {
   "cell_type": "code",
   "execution_count": 23,
   "id": "e6170b9c-853d-4399-8268-0425e83f5138",
   "metadata": {},
   "outputs": [
    {
     "data": {
      "image/png": "[encoded data removed]",
      "text/plain": [
       "<Figure size 1000x600 with 1 Axes>"
      ]
     },
     "metadata": {},
     "output_type": "display_data"
    }
   ],
   "source": [
    "srednja_duzina=df_undersampled.groupby('type')['duzina_domena'].mean().sort_values()\n",
    "plt.figure(figsize=(10, 6))\n",
    "srednja_duzina.plot(kind='bar')\n",
    "plt.title('Prosečna Dužina Domenа po Tipu')\n",
    "plt.xlabel('Tip')\n",
    "plt.ylabel('Prosečna Dužina Domene')\n",
    "plt.show()\n"
   ]
  },
  {
   "cell_type": "code",
   "execution_count": 24,
   "id": "253e0e4a-db9f-4817-b03a-2987ddd0f6eb",
   "metadata": {},
   "outputs": [
    {
     "data": {
      "text/html": [
       "<div>\n",
       "<style scoped>\n",
       "    .dataframe tbody tr th:only-of-type {\n",
       "        vertical-align: middle;\n",
       "    }\n",
       "\n",
       "    .dataframe tbody tr th {\n",
       "        vertical-align: top;\n",
       "    }\n",
       "\n",
       "    .dataframe thead th {\n",
       "        text-align: right;\n",
       "    }\n",
       "</style>\n",
       "<table border=\"1\" class=\"dataframe\">\n",
       "  <thead>\n",
       "    <tr style=\"text-align: right;\">\n",
       "      <th></th>\n",
       "      <th>duzina_url</th>\n",
       "      <th>duzina_domena</th>\n",
       "    </tr>\n",
       "  </thead>\n",
       "  <tbody>\n",
       "    <tr>\n",
       "      <th>count</th>\n",
       "      <td>130080.000000</td>\n",
       "      <td>130080.00000</td>\n",
       "    </tr>\n",
       "    <tr>\n",
       "      <th>mean</th>\n",
       "      <td>61.608933</td>\n",
       "      <td>17.46619</td>\n",
       "    </tr>\n",
       "    <tr>\n",
       "      <th>std</th>\n",
       "      <td>42.796276</td>\n",
       "      <td>9.06015</td>\n",
       "    </tr>\n",
       "    <tr>\n",
       "      <th>min</th>\n",
       "      <td>1.000000</td>\n",
       "      <td>2.00000</td>\n",
       "    </tr>\n",
       "    <tr>\n",
       "      <th>25%</th>\n",
       "      <td>33.000000</td>\n",
       "      <td>13.00000</td>\n",
       "    </tr>\n",
       "    <tr>\n",
       "      <th>50%</th>\n",
       "      <td>49.000000</td>\n",
       "      <td>16.00000</td>\n",
       "    </tr>\n",
       "    <tr>\n",
       "      <th>75%</th>\n",
       "      <td>81.000000</td>\n",
       "      <td>20.00000</td>\n",
       "    </tr>\n",
       "    <tr>\n",
       "      <th>max</th>\n",
       "      <td>1517.000000</td>\n",
       "      <td>239.00000</td>\n",
       "    </tr>\n",
       "  </tbody>\n",
       "</table>\n",
       "</div>"
      ],
      "text/plain": [
       "          duzina_url  duzina_domena\n",
       "count  130080.000000   130080.00000\n",
       "mean       61.608933       17.46619\n",
       "std        42.796276        9.06015\n",
       "min         1.000000        2.00000\n",
       "25%        33.000000       13.00000\n",
       "50%        49.000000       16.00000\n",
       "75%        81.000000       20.00000\n",
       "max      1517.000000      239.00000"
      ]
     },
     "execution_count": 24,
     "metadata": {},
     "output_type": "execute_result"
    }
   ],
   "source": [
    "df_undersampled.describe()"
   ]
  },
  {
   "cell_type": "markdown",
   "id": "9238007f-f9f1-4c3c-9c1b-b915779a7188",
   "metadata": {},
   "source": [
    "<h4>Da li URL sadrzi ip adresu?</h4>"
   ]
  },
  {
   "cell_type": "code",
   "execution_count": 25,
   "id": "89b36cf7-f4df-41c8-9072-1a7df65ff3c7",
   "metadata": {},
   "outputs": [],
   "source": [
    "def sadrzi_ip_addresu(url):\n",
    "    # Regularni izrazi za IPv4 i IPv6\n",
    "    ipv4_pattern = (\n",
    "        r'\\b(?:[0-9]{1,3}\\.){3}[0-9]{1,3}\\b'\n",
    "    )\n",
    "    ipv6_pattern = (\n",
    "        r'\\b(?:[0-9a-fA-F]{1,4}:){7}[0-9a-fA-F]{1,4}\\b|'  # Standardni IPv6\n",
    "        r'(?:[0-9a-fA-F]{1,4}:){1,7}:|'                      # Uncured IPv6\n",
    "        r'(?:[0-9a-fA-F]{1,4}:){1,6}:[0-9a-fA-F]{1,4}|'\n",
    "        r'(?:[0-9a-fA-F]{1,4}:){1,5}(?::[0-9a-fA-F]{1,4}){1,2}|'\n",
    "        r'(?:[0-9a-fA-F]{1,4}:){1,4}(?::[0-9a-fA-F]{1,4}){1,3}|'\n",
    "        r'(?:[0-9a-fA-F]{1,4}:){1,3}(?::[0-9a-fA-F]{1,4}){1,4}|'\n",
    "        r'(?:[0-9a-fA-F]{1,4}:){1,2}(?::[0-9a-fA-F]{1,4}){1,5}|'\n",
    "        r'[0-9a-fA-F]{1,4}:(?::[0-9a-fA-F]{1,4}){1,6}|'\n",
    "        r'(?::(?::[0-9a-fA-F]{1,4}){1,7}|'\n",
    "        r'::[0-9a-fA-F]{1,4}){1,7}\\b'\n",
    "    )\n",
    "    \n",
    "    # Kombinovani regularni izraz\n",
    "    pattern = f'{ipv4_pattern}|{ipv6_pattern}'\n",
    "    \n",
    "    # Parsirajte URL i izvadite hostname\n",
    "    parsed_url = urlparse(url)\n",
    "    hostname = parsed_url.hostname\n",
    "    \n",
    "    if hostname:\n",
    "        # Pretražimo hostname za IP adrese\n",
    "        match = re.search(pattern, hostname)\n",
    "        return 1 if match else 0\n",
    "    else:\n",
    "        return 0\n"
   ]
  },
  {
   "cell_type": "code",
   "execution_count": 26,
   "id": "60a91cd6-3a81-46b6-a280-bfa87fcf059f",
   "metadata": {},
   "outputs": [],
   "source": [
    "df_undersampled['ima_ip_adresu']=df_undersampled['url'].apply(sadrzi_ip_addresu)"
   ]
  },
  {
   "cell_type": "code",
   "execution_count": 27,
   "id": "aa5bf08b-c78d-4a6f-b1ea-420947d5c751",
   "metadata": {},
   "outputs": [
    {
     "data": {
      "text/html": [
       "<div>\n",
       "<style scoped>\n",
       "    .dataframe tbody tr th:only-of-type {\n",
       "        vertical-align: middle;\n",
       "    }\n",
       "\n",
       "    .dataframe tbody tr th {\n",
       "        vertical-align: top;\n",
       "    }\n",
       "\n",
       "    .dataframe thead th {\n",
       "        text-align: right;\n",
       "    }\n",
       "</style>\n",
       "<table border=\"1\" class=\"dataframe\">\n",
       "  <thead>\n",
       "    <tr style=\"text-align: right;\">\n",
       "      <th></th>\n",
       "      <th>url</th>\n",
       "      <th>type</th>\n",
       "      <th>duzina_url</th>\n",
       "      <th>duzina_domena</th>\n",
       "      <th>ima_ip_adresu</th>\n",
       "    </tr>\n",
       "  </thead>\n",
       "  <tbody>\n",
       "    <tr>\n",
       "      <th>110247</th>\n",
       "      <td>http://66.184.94.210/paypal/finish.php</td>\n",
       "      <td>phishing</td>\n",
       "      <td>38</td>\n",
       "      <td>14</td>\n",
       "      <td>1</td>\n",
       "    </tr>\n",
       "    <tr>\n",
       "      <th>256043</th>\n",
       "      <td>http://27.120.84.31/~kanfitbu/properties/remax/</td>\n",
       "      <td>phishing</td>\n",
       "      <td>47</td>\n",
       "      <td>13</td>\n",
       "      <td>1</td>\n",
       "    </tr>\n",
       "    <tr>\n",
       "      <th>526927</th>\n",
       "      <td>http://66.45.251.211/</td>\n",
       "      <td>phishing</td>\n",
       "      <td>21</td>\n",
       "      <td>14</td>\n",
       "      <td>1</td>\n",
       "    </tr>\n",
       "    <tr>\n",
       "      <th>531320</th>\n",
       "      <td>http://185.177.54.1/TP/public/index.php</td>\n",
       "      <td>phishing</td>\n",
       "      <td>39</td>\n",
       "      <td>13</td>\n",
       "      <td>1</td>\n",
       "    </tr>\n",
       "    <tr>\n",
       "      <th>524413</th>\n",
       "      <td>http://175.107.206.134/wp-content/plugins/rbcb...</td>\n",
       "      <td>phishing</td>\n",
       "      <td>172</td>\n",
       "      <td>16</td>\n",
       "      <td>1</td>\n",
       "    </tr>\n",
       "  </tbody>\n",
       "</table>\n",
       "</div>"
      ],
      "text/plain": [
       "                                                      url      type  \\\n",
       "110247             http://66.184.94.210/paypal/finish.php  phishing   \n",
       "256043    http://27.120.84.31/~kanfitbu/properties/remax/  phishing   \n",
       "526927                              http://66.45.251.211/  phishing   \n",
       "531320            http://185.177.54.1/TP/public/index.php  phishing   \n",
       "524413  http://175.107.206.134/wp-content/plugins/rbcb...  phishing   \n",
       "\n",
       "        duzina_url  duzina_domena  ima_ip_adresu  \n",
       "110247          38             14              1  \n",
       "256043          47             13              1  \n",
       "526927          21             14              1  \n",
       "531320          39             13              1  \n",
       "524413         172             16              1  "
      ]
     },
     "execution_count": 27,
     "metadata": {},
     "output_type": "execute_result"
    }
   ],
   "source": [
    "df_undersampled[df_undersampled['ima_ip_adresu']==1].head()"
   ]
  },
  {
   "cell_type": "code",
   "execution_count": 28,
   "id": "f45ce921-5a1c-44d0-99f8-928614a9ad70",
   "metadata": {},
   "outputs": [
    {
     "name": "stdout",
     "output_type": "stream",
     "text": [
      "ima_ip_adresu      0      1\n",
      "type                       \n",
      "benign         32520      0\n",
      "defacement     32520      0\n",
      "malware        20761  11759\n",
      "phishing       32414    106\n"
     ]
    }
   ],
   "source": [
    "print(pd.crosstab(df_undersampled['type'],df_undersampled['ima_ip_adresu']))"
   ]
  },
  {
   "cell_type": "markdown",
   "id": "55baa296-4a1e-4f01-8379-a079b058a394",
   "metadata": {},
   "source": [
    "<h4>Protokol</h4>"
   ]
  },
  {
   "cell_type": "code",
   "execution_count": 29,
   "id": "4d5d185a-3fc2-4162-a7f6-6f377a986054",
   "metadata": {},
   "outputs": [],
   "source": [
    "def protokol(url):\n",
    "    return urlparse(url).scheme"
   ]
  },
  {
   "cell_type": "code",
   "execution_count": 30,
   "id": "1b622f2d-5a34-44ca-b15b-27439a9ed1a2",
   "metadata": {},
   "outputs": [],
   "source": [
    "df_undersampled['protokol']=df_undersampled['url'].apply(lambda url:protokol(url))"
   ]
  },
  {
   "cell_type": "code",
   "execution_count": 31,
   "id": "fe038ac2-599d-4044-a17e-c4dc4695342d",
   "metadata": {},
   "outputs": [
    {
     "data": {
      "text/html": [
       "<div>\n",
       "<style scoped>\n",
       "    .dataframe tbody tr th:only-of-type {\n",
       "        vertical-align: middle;\n",
       "    }\n",
       "\n",
       "    .dataframe tbody tr th {\n",
       "        vertical-align: top;\n",
       "    }\n",
       "\n",
       "    .dataframe thead th {\n",
       "        text-align: right;\n",
       "    }\n",
       "</style>\n",
       "<table border=\"1\" class=\"dataframe\">\n",
       "  <thead>\n",
       "    <tr style=\"text-align: right;\">\n",
       "      <th></th>\n",
       "      <th>url</th>\n",
       "      <th>type</th>\n",
       "      <th>duzina_url</th>\n",
       "      <th>duzina_domena</th>\n",
       "      <th>ima_ip_adresu</th>\n",
       "      <th>protokol</th>\n",
       "    </tr>\n",
       "  </thead>\n",
       "  <tbody>\n",
       "    <tr>\n",
       "      <th>514768</th>\n",
       "      <td>montreal.louer.com/ahuntsic-rentals/houses-rent/</td>\n",
       "      <td>benign</td>\n",
       "      <td>48</td>\n",
       "      <td>18</td>\n",
       "      <td>0</td>\n",
       "      <td></td>\n",
       "    </tr>\n",
       "    <tr>\n",
       "      <th>222536</th>\n",
       "      <td>comunidade.sol.pt/blogs/hytigin/default.aspx</td>\n",
       "      <td>benign</td>\n",
       "      <td>44</td>\n",
       "      <td>17</td>\n",
       "      <td>0</td>\n",
       "      <td></td>\n",
       "    </tr>\n",
       "    <tr>\n",
       "      <th>276748</th>\n",
       "      <td>youtube.com/watch?v=PUDOlyCpHwo</td>\n",
       "      <td>benign</td>\n",
       "      <td>31</td>\n",
       "      <td>11</td>\n",
       "      <td>0</td>\n",
       "      <td></td>\n",
       "    </tr>\n",
       "    <tr>\n",
       "      <th>50193</th>\n",
       "      <td>uiowa.edu/~acadtech/phonetics/</td>\n",
       "      <td>benign</td>\n",
       "      <td>30</td>\n",
       "      <td>9</td>\n",
       "      <td>0</td>\n",
       "      <td></td>\n",
       "    </tr>\n",
       "    <tr>\n",
       "      <th>339822</th>\n",
       "      <td>flixster.com/actor/steve-mcqueen</td>\n",
       "      <td>benign</td>\n",
       "      <td>32</td>\n",
       "      <td>12</td>\n",
       "      <td>0</td>\n",
       "      <td></td>\n",
       "    </tr>\n",
       "    <tr>\n",
       "      <th>174885</th>\n",
       "      <td>http://stackoverflow.com/questions/5069876/reg...</td>\n",
       "      <td>benign</td>\n",
       "      <td>105</td>\n",
       "      <td>17</td>\n",
       "      <td>0</td>\n",
       "      <td>http</td>\n",
       "    </tr>\n",
       "    <tr>\n",
       "      <th>187420</th>\n",
       "      <td>en.goldenmap.com/City_of_Playford</td>\n",
       "      <td>benign</td>\n",
       "      <td>33</td>\n",
       "      <td>16</td>\n",
       "      <td>0</td>\n",
       "      <td></td>\n",
       "    </tr>\n",
       "    <tr>\n",
       "      <th>434789</th>\n",
       "      <td>content.usatoday.com/community/tags/topic.aspx...</td>\n",
       "      <td>benign</td>\n",
       "      <td>71</td>\n",
       "      <td>20</td>\n",
       "      <td>0</td>\n",
       "      <td></td>\n",
       "    </tr>\n",
       "    <tr>\n",
       "      <th>153097</th>\n",
       "      <td>music.concordia.ca/</td>\n",
       "      <td>benign</td>\n",
       "      <td>19</td>\n",
       "      <td>18</td>\n",
       "      <td>0</td>\n",
       "      <td></td>\n",
       "    </tr>\n",
       "    <tr>\n",
       "      <th>50095</th>\n",
       "      <td>en.wikipedia.org/wiki/Aveos_Fleet_Performance</td>\n",
       "      <td>benign</td>\n",
       "      <td>45</td>\n",
       "      <td>16</td>\n",
       "      <td>0</td>\n",
       "      <td></td>\n",
       "    </tr>\n",
       "  </tbody>\n",
       "</table>\n",
       "</div>"
      ],
      "text/plain": [
       "                                                      url    type  duzina_url  \\\n",
       "514768   montreal.louer.com/ahuntsic-rentals/houses-rent/  benign          48   \n",
       "222536       comunidade.sol.pt/blogs/hytigin/default.aspx  benign          44   \n",
       "276748                    youtube.com/watch?v=PUDOlyCpHwo  benign          31   \n",
       "50193                      uiowa.edu/~acadtech/phonetics/  benign          30   \n",
       "339822                   flixster.com/actor/steve-mcqueen  benign          32   \n",
       "174885  http://stackoverflow.com/questions/5069876/reg...  benign         105   \n",
       "187420                  en.goldenmap.com/City_of_Playford  benign          33   \n",
       "434789  content.usatoday.com/community/tags/topic.aspx...  benign          71   \n",
       "153097                                music.concordia.ca/  benign          19   \n",
       "50095       en.wikipedia.org/wiki/Aveos_Fleet_Performance  benign          45   \n",
       "\n",
       "        duzina_domena  ima_ip_adresu protokol  \n",
       "514768             18              0           \n",
       "222536             17              0           \n",
       "276748             11              0           \n",
       "50193               9              0           \n",
       "339822             12              0           \n",
       "174885             17              0     http  \n",
       "187420             16              0           \n",
       "434789             20              0           \n",
       "153097             18              0           \n",
       "50095              16              0           "
      ]
     },
     "execution_count": 31,
     "metadata": {},
     "output_type": "execute_result"
    }
   ],
   "source": [
    "df_undersampled.head(10)"
   ]
  },
  {
   "cell_type": "code",
   "execution_count": 32,
   "id": "82c379a7-9056-4f3d-8aaa-90a7291997ab",
   "metadata": {},
   "outputs": [
    {
     "data": {
      "text/plain": [
       "protokol\n",
       "http                            65749\n",
       "                                54870\n",
       "https                            9437\n",
       "dbpedia.openlinksw.com              5\n",
       "activation-pp.3utilities.com        2\n",
       "gopher.quux.org                     2\n",
       "www.mit.edu                         2\n",
       "www-vs.informatik.uni-ulm.de        1\n",
       "www.ee.ryerson.ca                   1\n",
       "john.ccac.rwth-aachen.de            1\n",
       "ww2.ant-nat.com                     1\n",
       "ilpubs.stanford.edu                 1\n",
       "www.listhost.net                    1\n",
       "crib.lehn.org                       1\n",
       "ftp                                 1\n",
       "eagle.cch.kcl.ac.uk                 1\n",
       "pgsql.ru                            1\n",
       "gwj194.internetdsl.tpnet.pl         1\n",
       "icscardnl.istmein.de                1\n",
       "escuelanet.com                      1\n",
       "Name: count, dtype: int64"
      ]
     },
     "execution_count": 32,
     "metadata": {},
     "output_type": "execute_result"
    }
   ],
   "source": [
    "df_undersampled['protokol'].value_counts()"
   ]
  },
  {
   "cell_type": "markdown",
   "id": "8f7e0291-f283-4083-a192-3e5f30393621",
   "metadata": {},
   "source": [
    "<h3>Domen,subdomen,sufiks</h3>"
   ]
  },
  {
   "cell_type": "code",
   "execution_count": 33,
   "id": "075326c2-ddcc-4ee3-8d0b-bf0e6935f800",
   "metadata": {},
   "outputs": [],
   "source": [
    "def subdomen(url):\n",
    "    ext=tldextract.extract(url)\n",
    "    return ext.subdomain"
   ]
  },
  {
   "cell_type": "code",
   "execution_count": 34,
   "id": "cfee7217-16ad-4cf8-846d-e67770ae4f18",
   "metadata": {},
   "outputs": [],
   "source": [
    "def domen(url):\n",
    "    ext=tldextract.extract(url)\n",
    "    return ext.domain"
   ]
  },
  {
   "cell_type": "code",
   "execution_count": 35,
   "id": "f30739e2-763f-496e-bbd7-2805bd2f296b",
   "metadata": {},
   "outputs": [],
   "source": [
    "def sufiks(url):\n",
    "    ext=tldextract.extract(url)\n",
    "    return ext.suffix"
   ]
  },
  {
   "cell_type": "code",
   "execution_count": 36,
   "id": "757c8769-8717-4072-9aa7-542576974220",
   "metadata": {},
   "outputs": [],
   "source": [
    "df_undersampled['subdomen']=df_undersampled['url'].apply(lambda url:subdomen(url))"
   ]
  },
  {
   "cell_type": "code",
   "execution_count": 37,
   "id": "29c5cf6f-9db7-4688-b0e2-5379671612a8",
   "metadata": {},
   "outputs": [],
   "source": [
    "df_undersampled['domen']=df_undersampled['url'].apply(lambda url:domen(url))"
   ]
  },
  {
   "cell_type": "code",
   "execution_count": 38,
   "id": "3102cc18-c701-4817-a6ee-bacdc172f937",
   "metadata": {},
   "outputs": [],
   "source": [
    "df_undersampled['sufiks']=df_undersampled['url'].apply(lambda url:sufiks(url))"
   ]
  },
  {
   "cell_type": "code",
   "execution_count": 39,
   "id": "fca0be0d-3c79-4e82-b9d6-01dd7477e8fd",
   "metadata": {},
   "outputs": [
    {
     "data": {
      "text/html": [
       "<div>\n",
       "<style scoped>\n",
       "    .dataframe tbody tr th:only-of-type {\n",
       "        vertical-align: middle;\n",
       "    }\n",
       "\n",
       "    .dataframe tbody tr th {\n",
       "        vertical-align: top;\n",
       "    }\n",
       "\n",
       "    .dataframe thead th {\n",
       "        text-align: right;\n",
       "    }\n",
       "</style>\n",
       "<table border=\"1\" class=\"dataframe\">\n",
       "  <thead>\n",
       "    <tr style=\"text-align: right;\">\n",
       "      <th></th>\n",
       "      <th>url</th>\n",
       "      <th>type</th>\n",
       "      <th>duzina_url</th>\n",
       "      <th>duzina_domena</th>\n",
       "      <th>ima_ip_adresu</th>\n",
       "      <th>protokol</th>\n",
       "      <th>subdomen</th>\n",
       "      <th>domen</th>\n",
       "      <th>sufiks</th>\n",
       "    </tr>\n",
       "  </thead>\n",
       "  <tbody>\n",
       "    <tr>\n",
       "      <th>514768</th>\n",
       "      <td>montreal.louer.com/ahuntsic-rentals/houses-rent/</td>\n",
       "      <td>benign</td>\n",
       "      <td>48</td>\n",
       "      <td>18</td>\n",
       "      <td>0</td>\n",
       "      <td></td>\n",
       "      <td>montreal</td>\n",
       "      <td>louer</td>\n",
       "      <td>com</td>\n",
       "    </tr>\n",
       "    <tr>\n",
       "      <th>222536</th>\n",
       "      <td>comunidade.sol.pt/blogs/hytigin/default.aspx</td>\n",
       "      <td>benign</td>\n",
       "      <td>44</td>\n",
       "      <td>17</td>\n",
       "      <td>0</td>\n",
       "      <td></td>\n",
       "      <td>comunidade</td>\n",
       "      <td>sol</td>\n",
       "      <td>pt</td>\n",
       "    </tr>\n",
       "    <tr>\n",
       "      <th>276748</th>\n",
       "      <td>youtube.com/watch?v=PUDOlyCpHwo</td>\n",
       "      <td>benign</td>\n",
       "      <td>31</td>\n",
       "      <td>11</td>\n",
       "      <td>0</td>\n",
       "      <td></td>\n",
       "      <td></td>\n",
       "      <td>youtube</td>\n",
       "      <td>com</td>\n",
       "    </tr>\n",
       "    <tr>\n",
       "      <th>50193</th>\n",
       "      <td>uiowa.edu/~acadtech/phonetics/</td>\n",
       "      <td>benign</td>\n",
       "      <td>30</td>\n",
       "      <td>9</td>\n",
       "      <td>0</td>\n",
       "      <td></td>\n",
       "      <td></td>\n",
       "      <td>uiowa</td>\n",
       "      <td>edu</td>\n",
       "    </tr>\n",
       "    <tr>\n",
       "      <th>339822</th>\n",
       "      <td>flixster.com/actor/steve-mcqueen</td>\n",
       "      <td>benign</td>\n",
       "      <td>32</td>\n",
       "      <td>12</td>\n",
       "      <td>0</td>\n",
       "      <td></td>\n",
       "      <td></td>\n",
       "      <td>flixster</td>\n",
       "      <td>com</td>\n",
       "    </tr>\n",
       "    <tr>\n",
       "      <th>174885</th>\n",
       "      <td>http://stackoverflow.com/questions/5069876/reg...</td>\n",
       "      <td>benign</td>\n",
       "      <td>105</td>\n",
       "      <td>17</td>\n",
       "      <td>0</td>\n",
       "      <td>http</td>\n",
       "      <td></td>\n",
       "      <td>stackoverflow</td>\n",
       "      <td>com</td>\n",
       "    </tr>\n",
       "    <tr>\n",
       "      <th>187420</th>\n",
       "      <td>en.goldenmap.com/City_of_Playford</td>\n",
       "      <td>benign</td>\n",
       "      <td>33</td>\n",
       "      <td>16</td>\n",
       "      <td>0</td>\n",
       "      <td></td>\n",
       "      <td>en</td>\n",
       "      <td>goldenmap</td>\n",
       "      <td>com</td>\n",
       "    </tr>\n",
       "    <tr>\n",
       "      <th>434789</th>\n",
       "      <td>content.usatoday.com/community/tags/topic.aspx...</td>\n",
       "      <td>benign</td>\n",
       "      <td>71</td>\n",
       "      <td>20</td>\n",
       "      <td>0</td>\n",
       "      <td></td>\n",
       "      <td>content</td>\n",
       "      <td>usatoday</td>\n",
       "      <td>com</td>\n",
       "    </tr>\n",
       "    <tr>\n",
       "      <th>153097</th>\n",
       "      <td>music.concordia.ca/</td>\n",
       "      <td>benign</td>\n",
       "      <td>19</td>\n",
       "      <td>18</td>\n",
       "      <td>0</td>\n",
       "      <td></td>\n",
       "      <td>music</td>\n",
       "      <td>concordia</td>\n",
       "      <td>ca</td>\n",
       "    </tr>\n",
       "    <tr>\n",
       "      <th>50095</th>\n",
       "      <td>en.wikipedia.org/wiki/Aveos_Fleet_Performance</td>\n",
       "      <td>benign</td>\n",
       "      <td>45</td>\n",
       "      <td>16</td>\n",
       "      <td>0</td>\n",
       "      <td></td>\n",
       "      <td>en</td>\n",
       "      <td>wikipedia</td>\n",
       "      <td>org</td>\n",
       "    </tr>\n",
       "  </tbody>\n",
       "</table>\n",
       "</div>"
      ],
      "text/plain": [
       "                                                      url    type  duzina_url  \\\n",
       "514768   montreal.louer.com/ahuntsic-rentals/houses-rent/  benign          48   \n",
       "222536       comunidade.sol.pt/blogs/hytigin/default.aspx  benign          44   \n",
       "276748                    youtube.com/watch?v=PUDOlyCpHwo  benign          31   \n",
       "50193                      uiowa.edu/~acadtech/phonetics/  benign          30   \n",
       "339822                   flixster.com/actor/steve-mcqueen  benign          32   \n",
       "174885  http://stackoverflow.com/questions/5069876/reg...  benign         105   \n",
       "187420                  en.goldenmap.com/City_of_Playford  benign          33   \n",
       "434789  content.usatoday.com/community/tags/topic.aspx...  benign          71   \n",
       "153097                                music.concordia.ca/  benign          19   \n",
       "50095       en.wikipedia.org/wiki/Aveos_Fleet_Performance  benign          45   \n",
       "\n",
       "        duzina_domena  ima_ip_adresu protokol    subdomen          domen  \\\n",
       "514768             18              0             montreal          louer   \n",
       "222536             17              0           comunidade            sol   \n",
       "276748             11              0                             youtube   \n",
       "50193               9              0                               uiowa   \n",
       "339822             12              0                            flixster   \n",
       "174885             17              0     http              stackoverflow   \n",
       "187420             16              0                   en      goldenmap   \n",
       "434789             20              0              content       usatoday   \n",
       "153097             18              0                music      concordia   \n",
       "50095              16              0                   en      wikipedia   \n",
       "\n",
       "       sufiks  \n",
       "514768    com  \n",
       "222536     pt  \n",
       "276748    com  \n",
       "50193     edu  \n",
       "339822    com  \n",
       "174885    com  \n",
       "187420    com  \n",
       "434789    com  \n",
       "153097     ca  \n",
       "50095     org  "
      ]
     },
     "execution_count": 39,
     "metadata": {},
     "output_type": "execute_result"
    }
   ],
   "source": [
    "df_undersampled.head(10)"
   ]
  },
  {
   "cell_type": "markdown",
   "id": "d81f290b-cf0b-43d8-9af1-7f2316f1d9de",
   "metadata": {},
   "source": [
    "<h3>Duzina putanje </h3>"
   ]
  },
  {
   "cell_type": "code",
   "execution_count": 40,
   "id": "b56a6d5a-d2ea-49e5-ba19-d8c7cb4c9d59",
   "metadata": {},
   "outputs": [],
   "source": [
    "def duzina_putanje(url):\n",
    "   return len(urlparse(url).path)"
   ]
  },
  {
   "cell_type": "code",
   "execution_count": 41,
   "id": "28b21eb6-39c0-4a87-9275-02eeeac127c1",
   "metadata": {},
   "outputs": [],
   "source": [
    "df_undersampled['duzina_putanje']=df_undersampled['url'].apply(lambda url:duzina_putanje(url))"
   ]
  },
  {
   "cell_type": "code",
   "execution_count": 42,
   "id": "04ed159c-54be-42ea-953e-44ed71631077",
   "metadata": {},
   "outputs": [
    {
     "name": "stdout",
     "output_type": "stream",
     "text": [
      "<class 'pandas.core.frame.DataFrame'>\n",
      "Index: 130080 entries, 514768 to 546320\n",
      "Data columns (total 10 columns):\n",
      " #   Column          Non-Null Count   Dtype \n",
      "---  ------          --------------   ----- \n",
      " 0   url             130080 non-null  object\n",
      " 1   type            130080 non-null  object\n",
      " 2   duzina_url      130080 non-null  int64 \n",
      " 3   duzina_domena   130080 non-null  int64 \n",
      " 4   ima_ip_adresu   130080 non-null  int64 \n",
      " 5   protokol        130080 non-null  object\n",
      " 6   subdomen        130080 non-null  object\n",
      " 7   domen           130080 non-null  object\n",
      " 8   sufiks          130080 non-null  object\n",
      " 9   duzina_putanje  130080 non-null  int64 \n",
      "dtypes: int64(4), object(6)\n",
      "memory usage: 10.9+ MB\n"
     ]
    }
   ],
   "source": [
    "df_undersampled.info()"
   ]
  },
  {
   "cell_type": "code",
   "execution_count": 43,
   "id": "751daa12-056d-44bd-8fca-9d7405038187",
   "metadata": {},
   "outputs": [],
   "source": [
    "prosecna_duzina_putanje=df_undersampled.groupby('type')['duzina_putanje'].mean().sort_values()"
   ]
  },
  {
   "cell_type": "code",
   "execution_count": 44,
   "id": "cf0654c7-9dd5-48ae-855b-04aa6b5f9b00",
   "metadata": {},
   "outputs": [
    {
     "data": {
      "image/png": "[encoded data removed]",
      "text/plain": [
       "<Figure size 640x480 with 1 Axes>"
      ]
     },
     "metadata": {},
     "output_type": "display_data"
    }
   ],
   "source": [
    "prosecna_duzina_putanje.plot(kind='bar')\n",
    "plt.title('Prosecna duzina putanje')\n",
    "plt.xlabel('type')\n",
    "plt.ylabel('duzina')\n",
    "plt.show()"
   ]
  },
  {
   "cell_type": "markdown",
   "id": "f73b3b12-cfd1-484d-b9d4-396a8a5082b1",
   "metadata": {},
   "source": [
    "<h4>Da li sadrzi parametre</h4>"
   ]
  },
  {
   "cell_type": "code",
   "execution_count": 45,
   "id": "2a627ea7-ed56-4333-97d0-3172162e7c73",
   "metadata": {},
   "outputs": [],
   "source": [
    "def sadrzi_parametre(url):\n",
    "    return bool(urlparse(url).params)"
   ]
  },
  {
   "cell_type": "code",
   "execution_count": 46,
   "id": "7aad5b29-f374-4642-ad97-b05de53aa877",
   "metadata": {},
   "outputs": [],
   "source": [
    "df_undersampled['sadrzi_parametre']=df_undersampled['url'].apply(lambda url:sadrzi_parametre(url))"
   ]
  },
  {
   "cell_type": "markdown",
   "id": "c3b5968a-2e03-431c-9d1f-13ec171abe4d",
   "metadata": {},
   "source": [
    "<h4>Da li sadrzi upit</h4>"
   ]
  },
  {
   "cell_type": "code",
   "execution_count": 47,
   "id": "076cc328-529a-401f-9165-c9fc668ed1e3",
   "metadata": {},
   "outputs": [],
   "source": [
    "def sadrzi_upit(url):\n",
    "    return bool(urlparse(url).query)"
   ]
  },
  {
   "cell_type": "code",
   "execution_count": 48,
   "id": "70db5f66-cf9f-4a7f-8de7-fbd233fb07a8",
   "metadata": {},
   "outputs": [],
   "source": [
    "df_undersampled['sadrzi_upit']=df_undersampled['url'].apply(lambda url:sadrzi_upit(url))"
   ]
  },
  {
   "cell_type": "code",
   "execution_count": 49,
   "id": "b20a3be9-5ecb-4d1a-8d21-e39f5b8d726d",
   "metadata": {},
   "outputs": [
    {
     "data": {
      "text/html": [
       "<div>\n",
       "<style scoped>\n",
       "    .dataframe tbody tr th:only-of-type {\n",
       "        vertical-align: middle;\n",
       "    }\n",
       "\n",
       "    .dataframe tbody tr th {\n",
       "        vertical-align: top;\n",
       "    }\n",
       "\n",
       "    .dataframe thead th {\n",
       "        text-align: right;\n",
       "    }\n",
       "</style>\n",
       "<table border=\"1\" class=\"dataframe\">\n",
       "  <thead>\n",
       "    <tr style=\"text-align: right;\">\n",
       "      <th></th>\n",
       "      <th>url</th>\n",
       "      <th>type</th>\n",
       "      <th>duzina_url</th>\n",
       "      <th>duzina_domena</th>\n",
       "      <th>ima_ip_adresu</th>\n",
       "      <th>protokol</th>\n",
       "      <th>subdomen</th>\n",
       "      <th>domen</th>\n",
       "      <th>sufiks</th>\n",
       "      <th>duzina_putanje</th>\n",
       "      <th>sadrzi_parametre</th>\n",
       "      <th>sadrzi_upit</th>\n",
       "    </tr>\n",
       "  </thead>\n",
       "  <tbody>\n",
       "    <tr>\n",
       "      <th>514768</th>\n",
       "      <td>montreal.louer.com/ahuntsic-rentals/houses-rent/</td>\n",
       "      <td>benign</td>\n",
       "      <td>48</td>\n",
       "      <td>18</td>\n",
       "      <td>0</td>\n",
       "      <td></td>\n",
       "      <td>montreal</td>\n",
       "      <td>louer</td>\n",
       "      <td>com</td>\n",
       "      <td>48</td>\n",
       "      <td>False</td>\n",
       "      <td>False</td>\n",
       "    </tr>\n",
       "    <tr>\n",
       "      <th>222536</th>\n",
       "      <td>comunidade.sol.pt/blogs/hytigin/default.aspx</td>\n",
       "      <td>benign</td>\n",
       "      <td>44</td>\n",
       "      <td>17</td>\n",
       "      <td>0</td>\n",
       "      <td></td>\n",
       "      <td>comunidade</td>\n",
       "      <td>sol</td>\n",
       "      <td>pt</td>\n",
       "      <td>44</td>\n",
       "      <td>False</td>\n",
       "      <td>False</td>\n",
       "    </tr>\n",
       "    <tr>\n",
       "      <th>276748</th>\n",
       "      <td>youtube.com/watch?v=PUDOlyCpHwo</td>\n",
       "      <td>benign</td>\n",
       "      <td>31</td>\n",
       "      <td>11</td>\n",
       "      <td>0</td>\n",
       "      <td></td>\n",
       "      <td></td>\n",
       "      <td>youtube</td>\n",
       "      <td>com</td>\n",
       "      <td>17</td>\n",
       "      <td>False</td>\n",
       "      <td>True</td>\n",
       "    </tr>\n",
       "    <tr>\n",
       "      <th>50193</th>\n",
       "      <td>uiowa.edu/~acadtech/phonetics/</td>\n",
       "      <td>benign</td>\n",
       "      <td>30</td>\n",
       "      <td>9</td>\n",
       "      <td>0</td>\n",
       "      <td></td>\n",
       "      <td></td>\n",
       "      <td>uiowa</td>\n",
       "      <td>edu</td>\n",
       "      <td>30</td>\n",
       "      <td>False</td>\n",
       "      <td>False</td>\n",
       "    </tr>\n",
       "    <tr>\n",
       "      <th>339822</th>\n",
       "      <td>flixster.com/actor/steve-mcqueen</td>\n",
       "      <td>benign</td>\n",
       "      <td>32</td>\n",
       "      <td>12</td>\n",
       "      <td>0</td>\n",
       "      <td></td>\n",
       "      <td></td>\n",
       "      <td>flixster</td>\n",
       "      <td>com</td>\n",
       "      <td>32</td>\n",
       "      <td>False</td>\n",
       "      <td>False</td>\n",
       "    </tr>\n",
       "    <tr>\n",
       "      <th>174885</th>\n",
       "      <td>http://stackoverflow.com/questions/5069876/reg...</td>\n",
       "      <td>benign</td>\n",
       "      <td>105</td>\n",
       "      <td>17</td>\n",
       "      <td>0</td>\n",
       "      <td>http</td>\n",
       "      <td></td>\n",
       "      <td>stackoverflow</td>\n",
       "      <td>com</td>\n",
       "      <td>81</td>\n",
       "      <td>False</td>\n",
       "      <td>False</td>\n",
       "    </tr>\n",
       "    <tr>\n",
       "      <th>187420</th>\n",
       "      <td>en.goldenmap.com/City_of_Playford</td>\n",
       "      <td>benign</td>\n",
       "      <td>33</td>\n",
       "      <td>16</td>\n",
       "      <td>0</td>\n",
       "      <td></td>\n",
       "      <td>en</td>\n",
       "      <td>goldenmap</td>\n",
       "      <td>com</td>\n",
       "      <td>33</td>\n",
       "      <td>False</td>\n",
       "      <td>False</td>\n",
       "    </tr>\n",
       "    <tr>\n",
       "      <th>434789</th>\n",
       "      <td>content.usatoday.com/community/tags/topic.aspx...</td>\n",
       "      <td>benign</td>\n",
       "      <td>71</td>\n",
       "      <td>20</td>\n",
       "      <td>0</td>\n",
       "      <td></td>\n",
       "      <td>content</td>\n",
       "      <td>usatoday</td>\n",
       "      <td>com</td>\n",
       "      <td>46</td>\n",
       "      <td>False</td>\n",
       "      <td>True</td>\n",
       "    </tr>\n",
       "    <tr>\n",
       "      <th>153097</th>\n",
       "      <td>music.concordia.ca/</td>\n",
       "      <td>benign</td>\n",
       "      <td>19</td>\n",
       "      <td>18</td>\n",
       "      <td>0</td>\n",
       "      <td></td>\n",
       "      <td>music</td>\n",
       "      <td>concordia</td>\n",
       "      <td>ca</td>\n",
       "      <td>19</td>\n",
       "      <td>False</td>\n",
       "      <td>False</td>\n",
       "    </tr>\n",
       "    <tr>\n",
       "      <th>50095</th>\n",
       "      <td>en.wikipedia.org/wiki/Aveos_Fleet_Performance</td>\n",
       "      <td>benign</td>\n",
       "      <td>45</td>\n",
       "      <td>16</td>\n",
       "      <td>0</td>\n",
       "      <td></td>\n",
       "      <td>en</td>\n",
       "      <td>wikipedia</td>\n",
       "      <td>org</td>\n",
       "      <td>45</td>\n",
       "      <td>False</td>\n",
       "      <td>False</td>\n",
       "    </tr>\n",
       "    <tr>\n",
       "      <th>175357</th>\n",
       "      <td>informatica.techtiks.com/beginners.html</td>\n",
       "      <td>benign</td>\n",
       "      <td>39</td>\n",
       "      <td>24</td>\n",
       "      <td>0</td>\n",
       "      <td></td>\n",
       "      <td>informatica</td>\n",
       "      <td>techtiks</td>\n",
       "      <td>com</td>\n",
       "      <td>39</td>\n",
       "      <td>False</td>\n",
       "      <td>False</td>\n",
       "    </tr>\n",
       "    <tr>\n",
       "      <th>158942</th>\n",
       "      <td>leftoutside.wordpress.com/</td>\n",
       "      <td>benign</td>\n",
       "      <td>26</td>\n",
       "      <td>25</td>\n",
       "      <td>0</td>\n",
       "      <td></td>\n",
       "      <td>leftoutside</td>\n",
       "      <td>wordpress</td>\n",
       "      <td>com</td>\n",
       "      <td>26</td>\n",
       "      <td>False</td>\n",
       "      <td>False</td>\n",
       "    </tr>\n",
       "    <tr>\n",
       "      <th>227728</th>\n",
       "      <td>http://icicibank.com/privilege-banking/persona...</td>\n",
       "      <td>benign</td>\n",
       "      <td>117</td>\n",
       "      <td>13</td>\n",
       "      <td>0</td>\n",
       "      <td>http</td>\n",
       "      <td></td>\n",
       "      <td>icicibank</td>\n",
       "      <td>com</td>\n",
       "      <td>42</td>\n",
       "      <td>False</td>\n",
       "      <td>True</td>\n",
       "    </tr>\n",
       "    <tr>\n",
       "      <th>303058</th>\n",
       "      <td>facebook.com/people/Alvin-Sanders/1378200379</td>\n",
       "      <td>benign</td>\n",
       "      <td>44</td>\n",
       "      <td>12</td>\n",
       "      <td>0</td>\n",
       "      <td></td>\n",
       "      <td></td>\n",
       "      <td>facebook</td>\n",
       "      <td>com</td>\n",
       "      <td>44</td>\n",
       "      <td>False</td>\n",
       "      <td>False</td>\n",
       "    </tr>\n",
       "    <tr>\n",
       "      <th>595589</th>\n",
       "      <td>'9d345009-a-62cb3a1a-s-sites.googlegroups.com/...</td>\n",
       "      <td>benign</td>\n",
       "      <td>363</td>\n",
       "      <td>45</td>\n",
       "      <td>0</td>\n",
       "      <td></td>\n",
       "      <td>'9d345009-a-62cb3a1a-s-sites</td>\n",
       "      <td>googlegroups</td>\n",
       "      <td>com</td>\n",
       "      <td>79</td>\n",
       "      <td>False</td>\n",
       "      <td>True</td>\n",
       "    </tr>\n",
       "  </tbody>\n",
       "</table>\n",
       "</div>"
      ],
      "text/plain": [
       "                                                      url    type  duzina_url  \\\n",
       "514768   montreal.louer.com/ahuntsic-rentals/houses-rent/  benign          48   \n",
       "222536       comunidade.sol.pt/blogs/hytigin/default.aspx  benign          44   \n",
       "276748                    youtube.com/watch?v=PUDOlyCpHwo  benign          31   \n",
       "50193                      uiowa.edu/~acadtech/phonetics/  benign          30   \n",
       "339822                   flixster.com/actor/steve-mcqueen  benign          32   \n",
       "174885  http://stackoverflow.com/questions/5069876/reg...  benign         105   \n",
       "187420                  en.goldenmap.com/City_of_Playford  benign          33   \n",
       "434789  content.usatoday.com/community/tags/topic.aspx...  benign          71   \n",
       "153097                                music.concordia.ca/  benign          19   \n",
       "50095       en.wikipedia.org/wiki/Aveos_Fleet_Performance  benign          45   \n",
       "175357            informatica.techtiks.com/beginners.html  benign          39   \n",
       "158942                         leftoutside.wordpress.com/  benign          26   \n",
       "227728  http://icicibank.com/privilege-banking/persona...  benign         117   \n",
       "303058       facebook.com/people/Alvin-Sanders/1378200379  benign          44   \n",
       "595589  '9d345009-a-62cb3a1a-s-sites.googlegroups.com/...  benign         363   \n",
       "\n",
       "        duzina_domena  ima_ip_adresu protokol                      subdomen  \\\n",
       "514768             18              0                               montreal   \n",
       "222536             17              0                             comunidade   \n",
       "276748             11              0                                          \n",
       "50193               9              0                                          \n",
       "339822             12              0                                          \n",
       "174885             17              0     http                                 \n",
       "187420             16              0                                     en   \n",
       "434789             20              0                                content   \n",
       "153097             18              0                                  music   \n",
       "50095              16              0                                     en   \n",
       "175357             24              0                            informatica   \n",
       "158942             25              0                            leftoutside   \n",
       "227728             13              0     http                                 \n",
       "303058             12              0                                          \n",
       "595589             45              0           '9d345009-a-62cb3a1a-s-sites   \n",
       "\n",
       "                domen sufiks  duzina_putanje  sadrzi_parametre  sadrzi_upit  \n",
       "514768          louer    com              48             False        False  \n",
       "222536            sol     pt              44             False        False  \n",
       "276748        youtube    com              17             False         True  \n",
       "50193           uiowa    edu              30             False        False  \n",
       "339822       flixster    com              32             False        False  \n",
       "174885  stackoverflow    com              81             False        False  \n",
       "187420      goldenmap    com              33             False        False  \n",
       "434789       usatoday    com              46             False         True  \n",
       "153097      concordia     ca              19             False        False  \n",
       "50095       wikipedia    org              45             False        False  \n",
       "175357       techtiks    com              39             False        False  \n",
       "158942      wordpress    com              26             False        False  \n",
       "227728      icicibank    com              42             False         True  \n",
       "303058       facebook    com              44             False        False  \n",
       "595589   googlegroups    com              79             False         True  "
      ]
     },
     "execution_count": 49,
     "metadata": {},
     "output_type": "execute_result"
    }
   ],
   "source": [
    "df_undersampled.head(15)"
   ]
  },
  {
   "cell_type": "code",
   "execution_count": 52,
   "id": "ef8966b0-f632-4828-bf33-fc67437c28ae",
   "metadata": {},
   "outputs": [],
   "source": [
    "from googlesearch import search"
   ]
  },
  {
   "cell_type": "code",
   "execution_count": 53,
   "id": "ef37cdc5-1828-4625-a60f-2623094de754",
   "metadata": {},
   "outputs": [],
   "source": [
    "def google_index(url):\n",
    "    site = search(url, 5)\n",
    "    return 1 if site else 0"
   ]
  },
  {
   "cell_type": "code",
   "execution_count": 54,
   "id": "fc93bfdd-1df6-4060-a38f-44a37ec06556",
   "metadata": {},
   "outputs": [],
   "source": [
    "df_undersampled['google_index'] = df_undersampled['url'].apply(lambda i: google_index(i))"
   ]
  },
  {
   "cell_type": "code",
   "execution_count": 56,
   "id": "f813c2d5-daea-4122-aba9-85dd95430a10",
   "metadata": {},
   "outputs": [
    {
     "data": {
      "text/plain": [
       "google_index\n",
       "1    130080\n",
       "Name: count, dtype: int64"
      ]
     },
     "execution_count": 56,
     "metadata": {},
     "output_type": "execute_result"
    }
   ],
   "source": [
    "df_undersampled['google_index'].value_counts()"
   ]
  },
  {
   "cell_type": "code",
   "execution_count": 57,
   "id": "b6cb15bb-a870-4c60-a43b-70fe2ee4200a",
   "metadata": {},
   "outputs": [],
   "source": [
    "df_undersampled.drop('google_index',axis=1,inplace=True)"
   ]
  },
  {
   "cell_type": "code",
   "execution_count": 58,
   "id": "12bec554-7c6a-48d2-8e90-53143c1bff8a",
   "metadata": {},
   "outputs": [
    {
     "name": "stdout",
     "output_type": "stream",
     "text": [
      "<class 'pandas.core.frame.DataFrame'>\n",
      "Index: 130080 entries, 514768 to 546320\n",
      "Data columns (total 12 columns):\n",
      " #   Column            Non-Null Count   Dtype \n",
      "---  ------            --------------   ----- \n",
      " 0   url               130080 non-null  object\n",
      " 1   type              130080 non-null  object\n",
      " 2   duzina_url        130080 non-null  int64 \n",
      " 3   duzina_domena     130080 non-null  int64 \n",
      " 4   ima_ip_adresu     130080 non-null  int64 \n",
      " 5   protokol          130080 non-null  object\n",
      " 6   subdomen          130080 non-null  object\n",
      " 7   domen             130080 non-null  object\n",
      " 8   sufiks            130080 non-null  object\n",
      " 9   duzina_putanje    130080 non-null  int64 \n",
      " 10  sadrzi_parametre  130080 non-null  bool  \n",
      " 11  sadrzi_upit       130080 non-null  bool  \n",
      "dtypes: bool(2), int64(4), object(6)\n",
      "memory usage: 11.2+ MB\n"
     ]
    }
   ],
   "source": [
    "df_undersampled.info()"
   ]
  },
  {
   "cell_type": "code",
   "execution_count": null,
   "id": "43134535-6b06-4a2b-a3c8-c668c3ea1d74",
   "metadata": {},
   "outputs": [],
   "source": []
  }
 ],
 "metadata": {
  "kernelspec": {
   "display_name": "Python 3 (ipykernel)",
   "language": "python",
   "name": "python3"
  },
  "language_info": {
   "codemirror_mode": {
    "name": "ipython",
    "version": 3
   },
   "file_extension": ".py",
   "mimetype": "text/x-python",
   "name": "python",
   "nbconvert_exporter": "python",
   "pygments_lexer": "ipython3",
   "version": "3.12.2"
  }
 },
 "nbformat": 4,
 "nbformat_minor": 5
}
